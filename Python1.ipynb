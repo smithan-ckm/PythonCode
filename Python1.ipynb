{
 "cells": [
  {
   "cell_type": "markdown",
   "id": "widespread-blake",
   "metadata": {},
   "source": [
    "### Bubble sort"
   ]
  },
  {
   "cell_type": "code",
   "execution_count": 1,
   "id": "russian-merchant",
   "metadata": {},
   "outputs": [
    {
     "name": "stdout",
     "output_type": "stream",
     "text": [
      "Enter n:3\n",
      "enter array element2\n",
      "enter array element1\n",
      "enter array element3\n",
      "Before sorting\n",
      "2 \n",
      "1 \n",
      "3 \n",
      "After sorting\n",
      "1 \n",
      "2 \n",
      "3 \n"
     ]
    }
   ],
   "source": [
    "n=int(input(\"Enter n:\"))\n",
    "l=[]\n",
    "for i in range(0,n):\n",
    "    j=int(input(\"enter array element\"))\n",
    "    l.append(j)\n",
    "print(\"Before sorting\")\n",
    "for i in l:\n",
    "    print(i,end=\" \")\n",
    "    print()\n",
    "for i in range(0,n-1):\n",
    "    for j in range(0,n-i-1):\n",
    "        if l[j]>l[j+1]:\n",
    "            temp=l[j]\n",
    "            l[j]=l[j+1]\n",
    "            l[j+1]=temp\n",
    "print(\"After sorting\")\n",
    "for i in l:\n",
    "    print(i,end=\" \")\n",
    "    print()"
   ]
  },
  {
   "cell_type": "markdown",
   "id": "dependent-savage",
   "metadata": {},
   "source": [
    "### star triangle"
   ]
  },
  {
   "cell_type": "code",
   "execution_count": 9,
   "id": "waiting-instrument",
   "metadata": {},
   "outputs": [
    {
     "name": "stdout",
     "output_type": "stream",
     "text": [
      "     * \n",
      "    * * \n",
      "   * * * \n",
      "  * * * * \n",
      " * * * * * \n"
     ]
    }
   ],
   "source": [
    "rows=5\n",
    "for i in range(0,rows):\n",
    "    for s in range(0,rows-i):\n",
    "        print(\" \",end=\"\")\n",
    "    for j in range(0,i+1):\n",
    "        print(\"*\",end=\" \")\n",
    "    print()"
   ]
  },
  {
   "cell_type": "markdown",
   "id": "olympic-point",
   "metadata": {},
   "source": [
    "### fibonacci series"
   ]
  },
  {
   "cell_type": "code",
   "execution_count": 10,
   "id": "transsexual-cookbook",
   "metadata": {},
   "outputs": [
    {
     "name": "stdout",
     "output_type": "stream",
     "text": [
      "Enter n\n"
     ]
    },
    {
     "ename": "ValueError",
     "evalue": "invalid literal for int() with base 10: ''",
     "output_type": "error",
     "traceback": [
      "\u001b[1;31m---------------------------------------------------------------------------\u001b[0m",
      "\u001b[1;31mValueError\u001b[0m                                Traceback (most recent call last)",
      "\u001b[1;32m<ipython-input-10-18a334dd75af>\u001b[0m in \u001b[0;36m<module>\u001b[1;34m\u001b[0m\n\u001b[1;32m----> 1\u001b[1;33m \u001b[0mn\u001b[0m\u001b[1;33m=\u001b[0m\u001b[0mint\u001b[0m\u001b[1;33m(\u001b[0m\u001b[0minput\u001b[0m\u001b[1;33m(\u001b[0m\u001b[1;34m\"Enter n\"\u001b[0m\u001b[1;33m)\u001b[0m\u001b[1;33m)\u001b[0m\u001b[1;33m\u001b[0m\u001b[1;33m\u001b[0m\u001b[0m\n\u001b[0m\u001b[0;32m      2\u001b[0m \u001b[0mfirst\u001b[0m \u001b[1;33m=\u001b[0m\u001b[1;36m0\u001b[0m\u001b[1;33m\u001b[0m\u001b[1;33m\u001b[0m\u001b[0m\n\u001b[0;32m      3\u001b[0m \u001b[0msecond\u001b[0m \u001b[1;33m=\u001b[0m\u001b[1;36m1\u001b[0m\u001b[1;33m\u001b[0m\u001b[1;33m\u001b[0m\u001b[0m\n\u001b[0;32m      4\u001b[0m \u001b[1;32mfor\u001b[0m \u001b[0mi\u001b[0m \u001b[1;32min\u001b[0m \u001b[0mrange\u001b[0m\u001b[1;33m(\u001b[0m\u001b[1;36m0\u001b[0m\u001b[1;33m,\u001b[0m\u001b[0mn\u001b[0m\u001b[1;33m)\u001b[0m\u001b[1;33m:\u001b[0m\u001b[1;33m\u001b[0m\u001b[1;33m\u001b[0m\u001b[0m\n\u001b[0;32m      5\u001b[0m     \u001b[0mprint\u001b[0m\u001b[1;33m(\u001b[0m\u001b[0mfirst\u001b[0m\u001b[1;33m,\u001b[0m\u001b[0mend\u001b[0m\u001b[1;33m=\u001b[0m\u001b[1;34m\" \"\u001b[0m\u001b[1;33m)\u001b[0m\u001b[1;33m\u001b[0m\u001b[1;33m\u001b[0m\u001b[0m\n",
      "\u001b[1;31mValueError\u001b[0m: invalid literal for int() with base 10: ''"
     ]
    }
   ],
   "source": [
    "n=int(input(\"Enter n\"))\n",
    "first =0\n",
    "second =1\n",
    "for i in range(0,n):\n",
    "    print(first,end=\" \")\n",
    "    next=first+second\n",
    "    first=second\n",
    "    second=next"
   ]
  },
  {
   "cell_type": "markdown",
   "id": "familiar-morris",
   "metadata": {},
   "source": [
    "### check a number is prime or not"
   ]
  },
  {
   "cell_type": "code",
   "execution_count": 4,
   "id": "smaller-allah",
   "metadata": {},
   "outputs": [
    {
     "name": "stdout",
     "output_type": "stream",
     "text": [
      "enter a number4\n",
      "4 is not a prime\n"
     ]
    },
    {
     "ename": "SystemExit",
     "evalue": "",
     "output_type": "error",
     "traceback": [
      "An exception has occurred, use %tb to see the full traceback.\n",
      "\u001b[1;31mSystemExit\u001b[0m\n"
     ]
    }
   ],
   "source": [
    "import sys\n",
    "n=int(input(\"enter a number\"))\n",
    "for i in range(2,int(n/2)+1):\n",
    "    if n%i==0:\n",
    "        print(\"{} is not a prime\".format(n))\n",
    "        sys.exit()\n",
    "print(\"{} is prime\".format(n))"
   ]
  },
  {
   "cell_type": "markdown",
   "id": "partial-basic",
   "metadata": {},
   "source": [
    "###  print prime numbers in range"
   ]
  },
  {
   "cell_type": "code",
   "execution_count": null,
   "id": "delayed-strap",
   "metadata": {},
   "outputs": [],
   "source": []
  },
  {
   "cell_type": "code",
   "execution_count": 14,
   "id": "middle-influence",
   "metadata": {},
   "outputs": [
    {
     "name": "stdout",
     "output_type": "stream",
     "text": [
      "enter a range100\n",
      "2 is prime\n",
      "3 is prime\n",
      "5 is prime\n",
      "7 is prime\n",
      "11 is prime\n",
      "13 is prime\n",
      "17 is prime\n",
      "19 is prime\n",
      "23 is prime\n",
      "29 is prime\n",
      "31 is prime\n",
      "37 is prime\n",
      "41 is prime\n",
      "43 is prime\n",
      "47 is prime\n",
      "53 is prime\n",
      "59 is prime\n",
      "61 is prime\n",
      "67 is prime\n",
      "71 is prime\n",
      "73 is prime\n",
      "79 is prime\n",
      "83 is prime\n",
      "89 is prime\n",
      "97 is prime\n"
     ]
    }
   ],
   "source": [
    "import sys\n",
    "flag=1\n",
    "n=int(input(\"enter a range\"))\n",
    "for i in range(2,n+1):\n",
    "    for j in range(2,int(i/2)+1):\n",
    "        if i%j==0:\n",
    "            break\n",
    "    else:\n",
    "        print(\"{} is prime\".format(i))"
   ]
  },
  {
   "cell_type": "markdown",
   "id": "informational-yesterday",
   "metadata": {},
   "source": [
    "### palindrome or not"
   ]
  },
  {
   "cell_type": "code",
   "execution_count": 16,
   "id": "hydraulic-finder",
   "metadata": {},
   "outputs": [
    {
     "name": "stdout",
     "output_type": "stream",
     "text": [
      "ENter a number1234\n",
      "1234 is not a palindrome\n"
     ]
    }
   ],
   "source": [
    "n=input(\"ENter a number\")\n",
    "rev=n[::-1]\n",
    "if(n==rev):\n",
    "    print(\"{} is palindrome\".format(n))\n",
    "else:\n",
    "    print(\"{} is not a palindrome\".format(n))"
   ]
  },
  {
   "cell_type": "markdown",
   "id": "inner-intention",
   "metadata": {},
   "source": [
    "### count capital letters in input string"
   ]
  },
  {
   "cell_type": "code",
   "execution_count": 6,
   "id": "optimum-silence",
   "metadata": {},
   "outputs": [
    {
     "name": "stdout",
     "output_type": "stream",
     "text": [
      "ENter a string with capital lettersHai Sm\n",
      "H\n",
      "HS\n",
      "['H', 'S']  HS\n",
      "2\n"
     ]
    }
   ],
   "source": [
    "n=input(\"ENter a string with capital letters\")\n",
    "count=0\n",
    "l=[]\n",
    "s=\" \"\n",
    "for i in n:\n",
    "    if i.isupper():\n",
    "        count+=1\n",
    "        l.append(i)\n",
    "        s=s+i\n",
    "        print(\"\".join(l))\n",
    "print(l,s)\n",
    "print(count)"
   ]
  },
  {
   "cell_type": "markdown",
   "id": "tough-impression",
   "metadata": {},
   "source": [
    "### sort using sort()"
   ]
  },
  {
   "cell_type": "code",
   "execution_count": 10,
   "id": "coordinated-speech",
   "metadata": {},
   "outputs": [
    {
     "name": "stdout",
     "output_type": "stream",
     "text": [
      "[37, 2, 1, 0] [37, 2, 1, 0]\n"
     ]
    }
   ],
   "source": [
    "l=[1,2,37,0]\n",
    "l.sort(reverse=True)\n",
    "l1=sorted(l,reverse=True)\n",
    "print(l,l1)"
   ]
  },
  {
   "cell_type": "markdown",
   "id": "classical-evans",
   "metadata": {},
   "source": [
    "### count letters occurance"
   ]
  },
  {
   "cell_type": "code",
   "execution_count": 3,
   "id": "fitting-calcium",
   "metadata": {},
   "outputs": [
    {
     "name": "stdout",
     "output_type": "stream",
     "text": [
      "Enter a stringhai hai\n",
      "{'h': 2, 'a': 2, 'i': 2, ' ': 1}\n"
     ]
    },
    {
     "data": {
      "text/plain": [
       "' # if we want to count words\\nst=\"hai good morning hai\"\\nl=st.split(\" \")\\nd1={}\\nfor i in l:\\n    if i in d1:\\n        d1[i]+=1\\n    else:\\n        d1[i]=1\\nprint(d1)\\n    '"
      ]
     },
     "execution_count": 3,
     "metadata": {},
     "output_type": "execute_result"
    }
   ],
   "source": [
    "str=input(\"Enter a string\")\n",
    "#from collections import Counter\n",
    "#print(Counter(str))\n",
    "d={}\n",
    "for i in str:\n",
    "    if i in d:\n",
    "        d[i]=d[i]+1\n",
    "    else:\n",
    "        d[i]=1\n",
    "print(d)\n",
    "\n",
    "''' # if we want to count words\n",
    "st=\"hai good morning hai\"\n",
    "l=st.split(\" \")\n",
    "d1={}\n",
    "for i in l:\n",
    "    if i in d1:\n",
    "        d1[i]+=1\n",
    "    else:\n",
    "        d1[i]=1\n",
    "print(d1)\n",
    "    '''    "
   ]
  },
  {
   "cell_type": "markdown",
   "id": "utility-plymouth",
   "metadata": {},
   "source": [
    "## Remove ith charater in string"
   ]
  },
  {
   "cell_type": "code",
   "execution_count": 36,
   "id": "celtic-possible",
   "metadata": {},
   "outputs": [
    {
     "name": "stdout",
     "output_type": "stream",
     "text": [
      "Enter a stringhai\n",
      "Enter ith position1\n",
      "hi\n"
     ]
    }
   ],
   "source": [
    "str=input(\"Enter a string\")\n",
    "str1=\"\"\n",
    "i=int(input(\"Enter ith position\"))\n",
    "for j in range(0,len(str)):\n",
    "    if j!=i:\n",
    "        str1=str1+str[j]\n",
    "print(str1)\n",
    "        "
   ]
  },
  {
   "cell_type": "code",
   "execution_count": 17,
   "id": "accessible-majority",
   "metadata": {},
   "outputs": [
    {
     "name": "stdout",
     "output_type": "stream",
     "text": [
      "ha\n"
     ]
    }
   ],
   "source": [
    "st1=\"hai\"\n",
    "j=2\n",
    "st2=\"\"\n",
    "for i in range(0,len(st1)):\n",
    "    if(j!=i):\n",
    "        st2=st2+st[i]\n",
    "print(st2)"
   ]
  },
  {
   "cell_type": "code",
   "execution_count": 24,
   "id": "remarkable-madagascar",
   "metadata": {},
   "outputs": [
    {
     "name": "stdout",
     "output_type": "stream",
     "text": [
      "[1, 2, 4, 5]\n",
      "[5, 2, 4, 1]\n",
      "[1, 2, 4, 5]\n"
     ]
    }
   ],
   "source": [
    "#Python program to interchange first and last elements in a list\n",
    "lis=[1,2,4,5]\n",
    "#using swap \n",
    "'''temp=lis[0]\n",
    "lis[0]=lis[3]\n",
    "lis[3]=temp \n",
    "print(lis)\n",
    "lis[0]=lis[0]+lis[3]\n",
    "lis[3]=lis[0]-lis[3]\n",
    "lis[0]=lis[0]-lis[3]\n",
    "print(lis)\n",
    "\n",
    "lis[0],lis[3]=lis[3],lis[0]\n",
    "print(lis)'''\n",
    "def swap(pos1,pos2,l):\n",
    "    l[pos1],l[pos2]=l[pos2],l[pos1]\n",
    "    "
   ]
  },
  {
   "cell_type": "code",
   "execution_count": 13,
   "id": "detected-placement",
   "metadata": {},
   "outputs": [
    {
     "name": "stdout",
     "output_type": "stream",
     "text": [
      "{'emp_name': 'Shubham', 'email': 'kh@gmail.com'}\n",
      "{'emp_name': 'aarav', 'email': 'k1h@gmail.com'}\n"
     ]
    }
   ],
   "source": [
    "# Python program to read\n",
    "# json file\n",
    "\n",
    "\n",
    "import json\n",
    "\n",
    "# Opening JSON file\n",
    "f = open('data.json',)\n",
    "\n",
    "# returns JSON object as\n",
    "# a dictionary\n",
    "data = json.load(f)\n",
    "\n",
    "# Iterating through the json\n",
    "# list\n",
    "for i in data['emp_details']:\n",
    "\tprint(i)\n",
    "\n",
    "# Closing file\n",
    "f.close()\n"
   ]
  },
  {
   "cell_type": "code",
   "execution_count": 17,
   "id": "psychological-primary",
   "metadata": {},
   "outputs": [
    {
     "name": "stdout",
     "output_type": "stream",
     "text": [
      "4\n",
      "4\n"
     ]
    }
   ],
   "source": [
    "#find length of a list\n",
    "li=[1,2,3,4]\n",
    "print(len(li))\n",
    "c=0\n",
    "for i in li:\n",
    "    c+=1\n",
    "print(c)\n"
   ]
  },
  {
   "cell_type": "code",
   "execution_count": 24,
   "id": "enabling-sheffield",
   "metadata": {},
   "outputs": [
    {
     "name": "stdout",
     "output_type": "stream",
     "text": [
      "['hai', 'are']\n"
     ]
    }
   ],
   "source": [
    "#list comprehension\n",
    "str=\"hai gm how are you\"\n",
    "l=str.split()\n",
    "l=[i for i in l if \"a\" in i]\n",
    "print(l)"
   ]
  },
  {
   "cell_type": "code",
   "execution_count": 31,
   "id": "statewide-clone",
   "metadata": {},
   "outputs": [
    {
     "name": "stdout",
     "output_type": "stream",
     "text": [
      "1000\n",
      "1000\n",
      "1000\n"
     ]
    }
   ],
   "source": [
    "#max of two num\n",
    "n=100\n",
    "n1=1000\n",
    "print(max(n,n1))\n",
    "if (n>n1):\n",
    "    print(n)\n",
    "else:\n",
    "    print(n1)\n",
    "#using ternary\n",
    "l=(n if n>=n1 else n1)\n",
    "print(l)"
   ]
  },
  {
   "cell_type": "code",
   "execution_count": 35,
   "id": "ruled-closing",
   "metadata": {},
   "outputs": [
    {
     "name": "stdout",
     "output_type": "stream",
     "text": [
      "9\n",
      "9\n",
      "9\n"
     ]
    }
   ],
   "source": [
    "#mini of two numbers\n",
    "n=9\n",
    "n1=10\n",
    "print(min(n,n1))\n",
    "if(n<n1):\n",
    "    print(n)\n",
    "else:\n",
    "    print(n1)\n",
    "l=(n if n<=n1 else n1)\n",
    "print(l)"
   ]
  },
  {
   "cell_type": "code",
   "execution_count": 40,
   "id": "collective-outreach",
   "metadata": {},
   "outputs": [
    {
     "name": "stdout",
     "output_type": "stream",
     "text": [
      "exists\n",
      "exists\n"
     ]
    }
   ],
   "source": [
    "#check number exists in list\n",
    "li=[1,2,3]\n",
    "num=2\n",
    "if num in li:\n",
    "    print(\"exists\")\n",
    "else:\n",
    "    print(\"no\")\n",
    "c=li.count(2)\n",
    "if(c>0):\n",
    "    print(\"exists\")\n",
    "else:\n",
    "    print(\"no\")\n",
    "    "
   ]
  },
  {
   "cell_type": "code",
   "execution_count": 81,
   "id": "processed-camera",
   "metadata": {},
   "outputs": [
    {
     "ename": "NameError",
     "evalue": "name 'l' is not defined",
     "output_type": "error",
     "traceback": [
      "\u001b[1;31m---------------------------------------------------------------------------\u001b[0m",
      "\u001b[1;31mNameError\u001b[0m                                 Traceback (most recent call last)",
      "\u001b[1;32m<ipython-input-81-a7fba33a7877>\u001b[0m in \u001b[0;36m<module>\u001b[1;34m\u001b[0m\n\u001b[0;32m      5\u001b[0m \u001b[1;31m#l*=0\u001b[0m\u001b[1;33m\u001b[0m\u001b[1;33m\u001b[0m\u001b[1;33m\u001b[0m\u001b[0m\n\u001b[0;32m      6\u001b[0m \u001b[1;32mdel\u001b[0m \u001b[0ml\u001b[0m\u001b[1;33m\u001b[0m\u001b[1;33m\u001b[0m\u001b[0m\n\u001b[1;32m----> 7\u001b[1;33m \u001b[0mprint\u001b[0m\u001b[1;33m(\u001b[0m\u001b[0ml\u001b[0m\u001b[1;33m)\u001b[0m\u001b[1;33m\u001b[0m\u001b[1;33m\u001b[0m\u001b[0m\n\u001b[0m",
      "\u001b[1;31mNameError\u001b[0m: name 'l' is not defined"
     ]
    }
   ],
   "source": [
    "#delete\n",
    "l=[1,2,3]\n",
    "#l.clear()\n",
    "#del l[:]\n",
    "#l*=0\n",
    "del l\n",
    "print(l)"
   ]
  },
  {
   "cell_type": "code",
   "execution_count": 68,
   "id": "abandoned-chester",
   "metadata": {},
   "outputs": [
    {
     "name": "stdout",
     "output_type": "stream",
     "text": [
      "[33, 1]\n",
      "[33, 1]\n",
      "[15, 14, 13, 12, 11, 10]\n"
     ]
    }
   ],
   "source": [
    "#reversing a list\n",
    "l=[1,33]\n",
    "print(l[::-1])\n",
    "#another way\n",
    "l1=[el for el in reversed(l)]\n",
    "print(l1)\n",
    "# Reversing a list using reverse()\n",
    "def Reverse(lst):\n",
    "\tlst.reverse()\n",
    "\treturn lst\n",
    "\t\n",
    "lst = [10, 11, 12, 13, 14, 15]\n",
    "print(Reverse(lst))\n"
   ]
  },
  {
   "cell_type": "code",
   "execution_count": 82,
   "id": "loaded-choice",
   "metadata": {},
   "outputs": [
    {
     "name": "stdout",
     "output_type": "stream",
     "text": [
      "[1, 2, 3, 4]\n",
      "[1, 2, 3, 4]\n",
      "[1, 2, 3, 4]\n",
      "[1, 2, 3, 4]\n",
      "[1, 2, 3, 4]\n",
      "[1, 2, 3, 4]\n",
      "[1, 2, 3] [1, 2, 3, 4]\n",
      "[1, 2, 3, 4]\n"
     ]
    }
   ],
   "source": [
    "#cloning or copying a list\n",
    "l=[1,2,3,4]\n",
    "l1=[]\n",
    "l1=l\n",
    "print(l1)\n",
    "l1=l[:]\n",
    "print(l1)\n",
    "#using extend\n",
    "l2=[]\n",
    "l2.extend(l)\n",
    "print(l2)\n",
    "#usinh list()\n",
    "l3=list(l1)\n",
    "print(l3)\n",
    "#usinh list comp\n",
    "l4=[i for i in l1]\n",
    "print(l4)\n",
    "#showllow deep\n",
    "import copy\n",
    "l5=copy.deepcopy(l4)\n",
    "print(l5)\n",
    "l4.pop()\n",
    "print(l4,l5)\n",
    "l6=[]\n",
    "for i in l5:\n",
    "    l6.append(i)\n",
    "print(l6)"
   ]
  },
  {
   "cell_type": "code",
   "execution_count": 85,
   "id": "banner-contest",
   "metadata": {},
   "outputs": [
    {
     "name": "stdout",
     "output_type": "stream",
     "text": [
      "{1: 2, 2: 2, 3: 1}\n"
     ]
    }
   ],
   "source": [
    "#Count occurrences of an element in a list\n",
    "l=[1,2,1,2,3]\n",
    "d={}\n",
    "for i in l:\n",
    "    if i in d:\n",
    "        d[i]+=1\n",
    "    else:\n",
    "        d[i]=1\n",
    "print(d)"
   ]
  },
  {
   "cell_type": "code",
   "execution_count": 90,
   "id": "human-aside",
   "metadata": {},
   "outputs": [
    {
     "name": "stdout",
     "output_type": "stream",
     "text": [
      "3\n",
      "3\n"
     ]
    }
   ],
   "source": [
    "#occurance of a element\n",
    "l=[2,2,1,2,3]\n",
    "c=2\n",
    "c1=l.count(c)\n",
    "print(c1)\n",
    "from collections import Counter\n",
    "d=Counter(l)\n",
    "print(d[c])\n",
    "\n",
    "        "
   ]
  },
  {
   "cell_type": "code",
   "execution_count": 101,
   "id": "random-opinion",
   "metadata": {},
   "outputs": [
    {
     "name": "stdout",
     "output_type": "stream",
     "text": [
      "-9\n",
      "Smallest element is: -9\n"
     ]
    }
   ],
   "source": [
    "#smallest \n",
    "l=[1,2,12,-9]\n",
    "mn=l[0]\n",
    "for i in range(1,len(l)):\n",
    "    if(l[i]<mn):\n",
    "        mn=l[i]\n",
    "print(mn)\n",
    "\n",
    "print(\"Smallest element is:\", min(l))\n"
   ]
  },
  {
   "cell_type": "code",
   "execution_count": 109,
   "id": "checked-vanilla",
   "metadata": {},
   "outputs": [
    {
     "name": "stdout",
     "output_type": "stream",
     "text": [
      "[-9, 1, 2, 12]\n",
      "2\n"
     ]
    }
   ],
   "source": [
    "l=[1,2,12,-9]\n",
    "\n",
    "l.sort()\n",
    "print(l)\n",
    "print(l[2])"
   ]
  },
  {
   "cell_type": "code",
   "execution_count": 118,
   "id": "enhanced-stewart",
   "metadata": {},
   "outputs": [
    {
     "name": "stdout",
     "output_type": "stream",
     "text": [
      "<filter object at 0x0000023534F504C8>\n"
     ]
    }
   ],
   "source": [
    "l=[(),1,2,()]\n",
    "l=[i for i in l if i]\n",
    "def f(l):\n",
    "    l=filter(None,l)\n",
    "    return l\n",
    "print(f(l1))"
   ]
  },
  {
   "cell_type": "code",
   "execution_count": 121,
   "id": "educational-blake",
   "metadata": {},
   "outputs": [
    {
     "name": "stdout",
     "output_type": "stream",
     "text": [
      "[1, 2]\n"
     ]
    }
   ],
   "source": [
    "#print duplicates\n",
    "l=[1,2,1,2,3]\n",
    "d={}\n",
    "for i in l:\n",
    "    if i in d:\n",
    "        d[i]+=1\n",
    "    else:\n",
    "        d[i]=1\n",
    "l=[x for x in d if d[x]>1]\n",
    "print(l)\n",
    "        "
   ]
  },
  {
   "cell_type": "code",
   "execution_count": 125,
   "id": "determined-country",
   "metadata": {},
   "outputs": [
    {
     "name": "stdout",
     "output_type": "stream",
     "text": [
      "[1, 2]\n"
     ]
    },
    {
     "ename": "NameError",
     "evalue": "name 'str' is not defined",
     "output_type": "error",
     "traceback": [
      "\u001b[1;31m---------------------------------------------------------------------------\u001b[0m",
      "\u001b[1;31mNameError\u001b[0m                                 Traceback (most recent call last)",
      "\u001b[1;32m<ipython-input-125-3bc4606d806f>\u001b[0m in \u001b[0;36m<module>\u001b[1;34m\u001b[0m\n\u001b[0;32m      9\u001b[0m \u001b[1;31m# Initializing list\u001b[0m\u001b[1;33m\u001b[0m\u001b[1;33m\u001b[0m\u001b[1;33m\u001b[0m\u001b[0m\n\u001b[0;32m     10\u001b[0m \u001b[0mtest_list\u001b[0m \u001b[1;33m=\u001b[0m \u001b[1;33m[\u001b[0m\u001b[1;36m5\u001b[0m\u001b[1;33m,\u001b[0m \u001b[1;36m6\u001b[0m\u001b[1;33m,\u001b[0m \u001b[1;33m[\u001b[0m\u001b[1;33m]\u001b[0m\u001b[1;33m,\u001b[0m \u001b[1;36m3\u001b[0m\u001b[1;33m,\u001b[0m \u001b[1;33m[\u001b[0m\u001b[1;33m]\u001b[0m\u001b[1;33m,\u001b[0m \u001b[1;33m[\u001b[0m\u001b[1;33m]\u001b[0m\u001b[1;33m,\u001b[0m \u001b[1;36m9\u001b[0m\u001b[1;33m]\u001b[0m\u001b[1;33m\u001b[0m\u001b[1;33m\u001b[0m\u001b[0m\n\u001b[1;32m---> 11\u001b[1;33m \u001b[1;32mdel\u001b[0m \u001b[0mstr\u001b[0m\u001b[1;33m\u001b[0m\u001b[1;33m\u001b[0m\u001b[0m\n\u001b[0m\u001b[0;32m     12\u001b[0m \u001b[1;33m\u001b[0m\u001b[0m\n\u001b[0;32m     13\u001b[0m \u001b[1;31m# printing original list\u001b[0m\u001b[1;33m\u001b[0m\u001b[1;33m\u001b[0m\u001b[1;33m\u001b[0m\u001b[0m\n",
      "\u001b[1;31mNameError\u001b[0m: name 'str' is not defined"
     ]
    }
   ],
   "source": [
    "#remove empty list\n",
    "l=[[],1,2,[]]\n",
    "l=[x for x in l if x!=[]]\n",
    "print(l)\n",
    "# Python3 code to demonstrate\n",
    "# Remove empty List from List\n",
    "# using filter()\n",
    "\n",
    "# Initializing list\n",
    "test_list = [5, 6, [], 3, [], [], 9]\n",
    "del str\n",
    "\n",
    "# printing original list\n",
    "print(\"The original list is : \" + str(test_list))\n",
    "\n",
    "# Remove empty List from List\n",
    "# using filter\n",
    "res = list(filter(None, test_list))\n",
    "\n",
    "# printing result\n",
    "print (\"List after empty list removal : \" + str(res))\n"
   ]
  },
  {
   "cell_type": "code",
   "execution_count": 128,
   "id": "unlike-columbia",
   "metadata": {},
   "outputs": [
    {
     "name": "stdout",
     "output_type": "stream",
     "text": [
      "The original list : ['Gfg', 3, 'is', 8, 'Best', 10, 'for', 18, 'Geeks', 33]\n",
      "[{'name': 'Gfg', 'number': 3}, {'name': 'is', 'number': 8}, {'name': 'Best', 'number': 10}, {'name': 'for', 'number': 18}, {'name': 'Geeks', 'number': 33}]\n"
     ]
    }
   ],
   "source": [
    "test_list = [\"Gfg\", 3, \"is\", 8, \"Best\", 10, \"for\", 18, \"Geeks\", 33]\n",
    "  \n",
    "# printing original list\n",
    "print(\"The original list : \" + str(test_list))\n",
    "  \n",
    "# initializing key list \n",
    "key_list = [\"name\", \"number\"]\n",
    "l=[{key_list[0]:test_list[i],key_list[1]:test_list[i+1]} for i in range(0,len(test_list),2)]\n",
    "print(l)"
   ]
  },
  {
   "cell_type": "code",
   "execution_count": 4,
   "id": "occasional-progress",
   "metadata": {},
   "outputs": [
    {
     "name": "stdout",
     "output_type": "stream",
     "text": [
      "1\n",
      "22\n"
     ]
    }
   ],
   "source": [
    "# creating the array\n",
    "arr = [1, 1, 1, 64, 23, 64, 22, 22, 22]\n",
    "\n",
    "# size of the list\n",
    "size = len(arr)\n",
    "\n",
    "# looping till length - 2\n",
    "for i in range(size-2):\n",
    "\n",
    "\t# checking the conditions\n",
    "\tif arr[i] == arr[i + 1] and arr[i + 1] == arr[i + 2]:\n",
    "\n",
    "\t\t# printing the element as the\n",
    "\t\t# conditions are satisfied\n",
    "\t\tprint(arr[i])\n"
   ]
  },
  {
   "cell_type": "code",
   "execution_count": 7,
   "id": "later-happiness",
   "metadata": {},
   "outputs": [
    {
     "name": "stdout",
     "output_type": "stream",
     "text": [
      "[3, 7, 9]\n"
     ]
    }
   ],
   "source": [
    "def dec_fun(fun):\n",
    "    def inner(lis_tuple):\n",
    "        return [fun(v[0],v[1]) for v in lis_tuple]\n",
    "    return inner\n",
    "\n",
    "@dec_fun\n",
    "def add_t(a,b):\n",
    "    return a+b\n",
    "\n",
    "print(add_t([(1,2),(3,4),(4,5)]))"
   ]
  },
  {
   "cell_type": "code",
   "execution_count": 17,
   "id": "different-thought",
   "metadata": {},
   "outputs": [
    {
     "name": "stdout",
     "output_type": "stream",
     "text": [
      "The original list is : ['geeksforgeeks', 'best', 'geeks', 'and', 'geeks', 'love', 'CS']\n",
      "Prefix Split List : [['geeksforgeeks', 'best'], ['geeks', 'and'], ['geeks', 'love', 'CS']]\n"
     ]
    }
   ],
   "source": [
    "# Python3 code to demonstrate working of\n",
    "# Split Strings on Prefix Occurrence\n",
    "# Using loop + startswith()\n",
    "\n",
    "# initializing list\n",
    "test_list = [\"geeksforgeeks\", \"best\", \"geeks\", \"and\", \"geeks\", \"love\", \"CS\"]\n",
    "\n",
    "# printing original list\n",
    "print(\"The original list is : \" + str(test_list))\n",
    "\n",
    "# initializing prefix\n",
    "pref = \"geek\"\n",
    "\n",
    "\n",
    "res = []\n",
    "for val in test_list:\n",
    "\t\n",
    "\t# checking for prefix\n",
    "\tif val.startswith(pref):\n",
    "\t\t\n",
    "\t\t# if pref found, start new list\n",
    "\t\tres.append([val])\n",
    "\telse:\n",
    "\t\t\n",
    "\t\t# else append in current list\n",
    "\t\tres[-1].append(val)\n",
    "\n",
    "# printing result\n",
    "print(\"Prefix Split List : \" + str(res))\n"
   ]
  },
  {
   "cell_type": "code",
   "execution_count": 21,
   "id": "periodic-cigarette",
   "metadata": {},
   "outputs": [
    {
     "name": "stdout",
     "output_type": "stream",
     "text": [
      "['G', '*', 'G', '*', '*', '*', '*', '*', '*']\n"
     ]
    }
   ],
   "source": [
    "test_list = ['G', 'F', 'G', 'I', 'S', 'B', 'E', 'S', 'T']\n",
    "repl_chr = '*'\n",
    "ret_chr = 'G' \n",
    "for ele in range(0,len(test_list)):\n",
    "    if test_list[ele]!='G':\n",
    "        test_list[ele]='*'\n",
    "print(test_list)"
   ]
  },
  {
   "cell_type": "code",
   "execution_count": 27,
   "id": "exact-crazy",
   "metadata": {},
   "outputs": [
    {
     "name": "stdout",
     "output_type": "stream",
     "text": [
      "['is', 'best']\n"
     ]
    }
   ],
   "source": [
    "test_list = ['gfg', 'is', 'best', 'for', 'geeks']\n",
    "  \n",
    "# initializing char list \n",
    "char_list = ['g', 'o']\n",
    "res=[]\n",
    "flag=1\n",
    "for ele in test_list:\n",
    "    for char in char_list:\n",
    "        if char not in ele:\n",
    "            flag=1\n",
    "        else:\n",
    "            flag=0\n",
    "            break\n",
    "    if flag==1:\n",
    "            res.append(ele)\n",
    "print(res)"
   ]
  },
  {
   "cell_type": "code",
   "execution_count": 31,
   "id": "activated-notice",
   "metadata": {},
   "outputs": [
    {
     "name": "stdout",
     "output_type": "stream",
     "text": [
      "['gfg', 'is', 'best']\n"
     ]
    }
   ],
   "source": [
    "test_list = ['gfg', '   ', ' ', 'is', '            ', 'best']\n",
    "el=[ele for ele in test_list if ele.strip()]\n",
    "print(el)\n"
   ]
  },
  {
   "cell_type": "code",
   "execution_count": 34,
   "id": "chief-honolulu",
   "metadata": {},
   "outputs": [
    {
     "name": "stdout",
     "output_type": "stream",
     "text": [
      "gfgisbest\n",
      "gfg  is  best\n"
     ]
    }
   ],
   "source": [
    "st=\"gfg    is   best\"\n",
    "l=st.split(\" \")\n",
    "l2=st.replace(\"  \",\" \")\n",
    "print(\"\".join(l))\n",
    "print(l2)"
   ]
  },
  {
   "cell_type": "code",
   "execution_count": 52,
   "id": "atlantic-publication",
   "metadata": {},
   "outputs": [
    {
     "name": "stdout",
     "output_type": "stream",
     "text": [
      "['hai Good Byehai', 'good Bad']\n"
     ]
    }
   ],
   "source": [
    "import re\n",
    "l=[\"haiGoodByehai\",\"goodBad\"]\n",
    "l=[re.sub(r\"(\\w)([A-Z])\",r\"\\1 \\2\",el) for el in l]\n",
    "#res = [re.sub(r\"(\\w)([A-Z])\", r\"\\1 \\2\", ele) for ele in test_list]\n",
    "print(l)"
   ]
  },
  {
   "cell_type": "code",
   "execution_count": 55,
   "id": "offshore-token",
   "metadata": {},
   "outputs": [
    {
     "name": "stdout",
     "output_type": "stream",
     "text": [
      "hai 1\n",
      "bye 2\n"
     ]
    }
   ],
   "source": [
    "l=[\"hai\",\"bye\"]\n",
    "l1=[1,2]\n",
    "for e,e1 in (zip(l,l1)):\n",
    "    print(e,e1)"
   ]
  },
  {
   "cell_type": "code",
   "execution_count": 58,
   "id": "acute-lesbian",
   "metadata": {},
   "outputs": [
    {
     "name": "stdout",
     "output_type": "stream",
     "text": [
      "{'Geeks': 'Gks', 'And': '&', 'Computer': 'Comp'}\n",
      "['GksforGks', 'is', 'Best', 'For', 'Gks', '&', 'Comp Science']\n"
     ]
    }
   ],
   "source": [
    "test_list1 = ['GeeksforGeeks', 'is', 'Best', 'For', 'Geeks', 'And', 'Computer Science']\n",
    "test_list2 = [['Geeks', 'Gks'], ['And', '&'], ['Computer', 'Comp']]\n",
    "d=dict(test_list2)\n",
    "print(d)\n",
    "for key,val in d.items():\n",
    "    for i,el in enumerate(test_list1):\n",
    "        if key in el:\n",
    "            test_list1[i]=el.replace(key,val)\n",
    "print(test_list1)\n",
    "            "
   ]
  },
  {
   "cell_type": "code",
   "execution_count": 60,
   "id": "monthly-screw",
   "metadata": {},
   "outputs": [
    {
     "ename": "NameError",
     "evalue": "name 'f' is not defined",
     "output_type": "error",
     "traceback": [
      "\u001b[1;31m---------------------------------------------------------------------------\u001b[0m",
      "\u001b[1;31mNameError\u001b[0m                                 Traceback (most recent call last)",
      "\u001b[1;32m<ipython-input-60-857aa2dfa787>\u001b[0m in \u001b[0;36m<module>\u001b[1;34m\u001b[0m\n\u001b[0;32m      1\u001b[0m \u001b[0ml1\u001b[0m\u001b[1;33m=\u001b[0m\u001b[1;33m[\u001b[0m\u001b[1;36m8\u001b[0m\u001b[1;33m,\u001b[0m\u001b[1;36m5\u001b[0m\u001b[1;33m,\u001b[0m\u001b[1;36m9\u001b[0m\u001b[1;33m,\u001b[0m\u001b[1;36m11\u001b[0m\u001b[1;33m,\u001b[0m\u001b[1;36m13\u001b[0m\u001b[1;33m,\u001b[0m\u001b[1;36m7\u001b[0m\u001b[1;33m]\u001b[0m\u001b[1;33m\u001b[0m\u001b[1;33m\u001b[0m\u001b[0m\n\u001b[0;32m      2\u001b[0m \u001b[0ml2\u001b[0m\u001b[1;33m=\u001b[0m\u001b[1;33m[\u001b[0m\u001b[1;36m9\u001b[0m\u001b[1;33m,\u001b[0m\u001b[1;36m11\u001b[0m\u001b[1;33m]\u001b[0m\u001b[1;33m\u001b[0m\u001b[1;33m\u001b[0m\u001b[0m\n\u001b[1;32m----> 3\u001b[1;33m \u001b[0mprint\u001b[0m\u001b[1;33m(\u001b[0m\u001b[0mf\u001b[0m\u001b[1;33m(\u001b[0m\u001b[0ml1\u001b[0m\u001b[1;33m,\u001b[0m\u001b[0ml2\u001b[0m\u001b[1;33m)\u001b[0m\u001b[1;33m)\u001b[0m\u001b[1;33m\u001b[0m\u001b[1;33m\u001b[0m\u001b[0m\n\u001b[0m\u001b[0;32m      4\u001b[0m \u001b[1;32mdef\u001b[0m \u001b[0mf\u001b[0m\u001b[1;33m(\u001b[0m\u001b[0ml1\u001b[0m\u001b[1;33m,\u001b[0m\u001b[0ml2\u001b[0m\u001b[1;33m)\u001b[0m\u001b[1;33m:\u001b[0m\u001b[1;33m\u001b[0m\u001b[1;33m\u001b[0m\u001b[0m\n\u001b[0;32m      5\u001b[0m     \u001b[0mtemp\u001b[0m\u001b[1;33m=\u001b[0m\u001b[1;33m[\u001b[0m\u001b[1;33m]\u001b[0m\u001b[1;33m\u001b[0m\u001b[1;33m\u001b[0m\u001b[0m\n",
      "\u001b[1;31mNameError\u001b[0m: name 'f' is not defined"
     ]
    }
   ],
   "source": [
    "\n",
    "l1=[8,5,9,11,13,7]\n",
    "l2=[9,11]\n",
    "print(f(l1,l2))\n",
    "def f(l1,l2):\n",
    "    temp=[]\n",
    "    for i in l1:\n",
    "        if i in l2:\n",
    "            if temp:\n",
    "                yield temp\n",
    "                temp=[]\n",
    "            yield i\n",
    "        else:\n",
    "            temp.append(i)\n",
    "yield temp\n"
   ]
  },
  {
   "cell_type": "code",
   "execution_count": 70,
   "id": "proof-survey",
   "metadata": {},
   "outputs": [
    {
     "name": "stdout",
     "output_type": "stream",
     "text": [
      "['Gfg', 'Geeks', 'Gfg is best', 'Gfg is best b', 'Gfg is for Geeks']\n",
      "['Gfg is best b', 'Gfg is for Geeks']\n"
     ]
    }
   ],
   "source": [
    "test_list = [\"Gfg\", \"Gfg is best\", \"Geeks\", \"Gfg is for Geeks\",\"Gfg is best b\"]\n",
    "test_list.sort(key=len)\n",
    "print(test_list)\n",
    "res=[]\n",
    "for i,d in enumerate(test_list):\n",
    "    if d not in \",\".join(test_list[i+1:]):\n",
    "        res.append(d)\n",
    "print(res)"
   ]
  },
  {
   "cell_type": "code",
   "execution_count": 77,
   "id": "middle-sheet",
   "metadata": {},
   "outputs": [
    {
     "data": {
      "text/plain": [
       "'for i in test_list:\\n    for l in i:\\n        test.append(l)\\nprint(test)'"
      ]
     },
     "execution_count": 77,
     "metadata": {},
     "output_type": "execute_result"
    }
   ],
   "source": [
    "test_list = [\"Gfg\", \"Gfg is best\", \"Geeks\", \"Gfg is for Geeks\",\"Gfg is best b\"]\n",
    "test=[]\n",
    "st=str(test_list)\n",
    "\n",
    "'''for i in test_list:\n",
    "    for l in i:\n",
    "        test.append(l)\n",
    "print(test)'''"
   ]
  },
  {
   "cell_type": "code",
   "execution_count": 80,
   "id": "upper-colorado",
   "metadata": {},
   "outputs": [
    {
     "name": "stdout",
     "output_type": "stream",
     "text": [
      "[3, 8]\n"
     ]
    }
   ],
   "source": [
    "def funct(fun):\n",
    "    def inner(list_t):\n",
    "        return[fun(v[0],v[1]) for v in list_t]\n",
    "    return inner\n",
    "@funct\n",
    "def add(a,b):\n",
    "    return a+b\n",
    "print(add([(1,2),(3,5)]))"
   ]
  },
  {
   "cell_type": "code",
   "execution_count": 82,
   "id": "verbal-alabama",
   "metadata": {},
   "outputs": [
    {
     "name": "stdout",
     "output_type": "stream",
     "text": [
      "veg\n",
      "non veg\n"
     ]
    }
   ],
   "source": [
    "#anstraction\n",
    "from abc import ABC\n",
    "class animal(ABC):\n",
    "    def eats(self):\n",
    "        pass\n",
    "class dog(animal):\n",
    "    def eats(self):\n",
    "        print(\"non veg\")\n",
    "class cow(animal):\n",
    "    def eats(self):\n",
    "        print(\"veg\")\n",
    "        \n",
    "        \n",
    "c=cow()\n",
    "c.eats()\n",
    "d=dog()\n",
    "d.eats()"
   ]
  },
  {
   "cell_type": "code",
   "execution_count": 96,
   "id": "prospective-violation",
   "metadata": {},
   "outputs": [
    {
     "name": "stdout",
     "output_type": "stream",
     "text": [
      "biscuits 12\n",
      "non veg tom\n"
     ]
    }
   ],
   "source": [
    "#polymorphism\n",
    "class Animal:\n",
    "    def __init__(self,name):\n",
    "        self.name=name\n",
    "    def eats(self):\n",
    "        \n",
    "        print(\"non veg\",self.name)\n",
    "        \n",
    "class dog(Animal):\n",
    "    def __init__(self,name,age):\n",
    "            Animal.__init__(self,name)\n",
    "            self.age=age\n",
    "    def eats(self):\n",
    "        \n",
    "        print(\"biscuits\",self.age)\n",
    "        Animal.eats(self)\n",
    "        \n",
    "        \n",
    "d=dog('tom',12)\n",
    "d.eats()\n"
   ]
  },
  {
   "cell_type": "code",
   "execution_count": 100,
   "id": "productive-intellectual",
   "metadata": {},
   "outputs": [
    {
     "ename": "TypeError",
     "evalue": "object.__init__() takes exactly one argument (the instance to initialize)",
     "output_type": "error",
     "traceback": [
      "\u001b[1;31m---------------------------------------------------------------------------\u001b[0m",
      "\u001b[1;31mTypeError\u001b[0m                                 Traceback (most recent call last)",
      "\u001b[1;32m<ipython-input-100-524dab9b360e>\u001b[0m in \u001b[0;36m<module>\u001b[1;34m\u001b[0m\n\u001b[0;32m     22\u001b[0m         \u001b[0mprint\u001b[0m\u001b[1;33m(\u001b[0m\u001b[1;34m\"legspace=\"\u001b[0m\u001b[1;33m,\u001b[0m\u001b[0mself\u001b[0m\u001b[1;33m.\u001b[0m\u001b[0mlegspace\u001b[0m\u001b[1;33m)\u001b[0m\u001b[1;33m\u001b[0m\u001b[1;33m\u001b[0m\u001b[0m\n\u001b[0;32m     23\u001b[0m \u001b[1;33m\u001b[0m\u001b[0m\n\u001b[1;32m---> 24\u001b[1;33m \u001b[0mc\u001b[0m\u001b[1;33m=\u001b[0m\u001b[0mcompact\u001b[0m\u001b[1;33m(\u001b[0m\u001b[1;34m\"blue\"\u001b[0m\u001b[1;33m,\u001b[0m\u001b[1;36m590\u001b[0m\u001b[1;33m,\u001b[0m\u001b[1;36m5\u001b[0m\u001b[1;33m)\u001b[0m\u001b[1;33m\u001b[0m\u001b[1;33m\u001b[0m\u001b[0m\n\u001b[0m\u001b[0;32m     25\u001b[0m \u001b[0mc\u001b[0m\u001b[1;33m.\u001b[0m\u001b[0mdetails\u001b[0m\u001b[1;33m(\u001b[0m\u001b[1;33m)\u001b[0m\u001b[1;33m\u001b[0m\u001b[1;33m\u001b[0m\u001b[0m\n\u001b[0;32m     26\u001b[0m \u001b[1;33m\u001b[0m\u001b[0m\n",
      "\u001b[1;32m<ipython-input-100-524dab9b360e>\u001b[0m in \u001b[0;36m__init__\u001b[1;34m(self, colour, size, legspace)\u001b[0m\n\u001b[0;32m     16\u001b[0m \u001b[1;32mclass\u001b[0m \u001b[0mcompact\u001b[0m\u001b[1;33m(\u001b[0m\u001b[0msuv\u001b[0m\u001b[1;33m)\u001b[0m\u001b[1;33m:\u001b[0m\u001b[1;33m\u001b[0m\u001b[1;33m\u001b[0m\u001b[0m\n\u001b[0;32m     17\u001b[0m     \u001b[1;32mdef\u001b[0m \u001b[0m__init__\u001b[0m\u001b[1;33m(\u001b[0m\u001b[0mself\u001b[0m\u001b[1;33m,\u001b[0m\u001b[0mcolour\u001b[0m\u001b[1;33m,\u001b[0m\u001b[0msize\u001b[0m\u001b[1;33m,\u001b[0m\u001b[0mlegspace\u001b[0m\u001b[1;33m)\u001b[0m\u001b[1;33m:\u001b[0m\u001b[1;33m\u001b[0m\u001b[1;33m\u001b[0m\u001b[0m\n\u001b[1;32m---> 18\u001b[1;33m         \u001b[0msuv\u001b[0m\u001b[1;33m.\u001b[0m\u001b[0m__init__\u001b[0m\u001b[1;33m(\u001b[0m\u001b[0mself\u001b[0m\u001b[1;33m,\u001b[0m\u001b[0mcolour\u001b[0m\u001b[1;33m,\u001b[0m\u001b[0msize\u001b[0m\u001b[1;33m)\u001b[0m\u001b[1;33m\u001b[0m\u001b[1;33m\u001b[0m\u001b[0m\n\u001b[0m\u001b[0;32m     19\u001b[0m         \u001b[0mself\u001b[0m\u001b[1;33m.\u001b[0m\u001b[0mlegspace\u001b[0m\u001b[1;33m=\u001b[0m\u001b[0mlegspace\u001b[0m\u001b[1;33m\u001b[0m\u001b[1;33m\u001b[0m\u001b[0m\n\u001b[0;32m     20\u001b[0m     \u001b[1;32mdef\u001b[0m \u001b[0mdetails\u001b[0m\u001b[1;33m(\u001b[0m\u001b[0mself\u001b[0m\u001b[1;33m)\u001b[0m\u001b[1;33m:\u001b[0m\u001b[1;33m\u001b[0m\u001b[1;33m\u001b[0m\u001b[0m\n",
      "\u001b[1;32m<ipython-input-100-524dab9b360e>\u001b[0m in \u001b[0;36m__init__\u001b[1;34m(self, colour, size)\u001b[0m\n\u001b[0;32m      8\u001b[0m \u001b[1;32mclass\u001b[0m \u001b[0msuv\u001b[0m\u001b[1;33m(\u001b[0m\u001b[0mcar\u001b[0m\u001b[1;33m)\u001b[0m\u001b[1;33m:\u001b[0m\u001b[1;33m\u001b[0m\u001b[1;33m\u001b[0m\u001b[0m\n\u001b[0;32m      9\u001b[0m     \u001b[1;32mdef\u001b[0m \u001b[0m__init__\u001b[0m\u001b[1;33m(\u001b[0m\u001b[0mself\u001b[0m\u001b[1;33m,\u001b[0m\u001b[0mcolour\u001b[0m\u001b[1;33m,\u001b[0m\u001b[0msize\u001b[0m\u001b[1;33m)\u001b[0m\u001b[1;33m:\u001b[0m\u001b[1;33m\u001b[0m\u001b[1;33m\u001b[0m\u001b[0m\n\u001b[1;32m---> 10\u001b[1;33m         \u001b[0mcar\u001b[0m\u001b[1;33m.\u001b[0m\u001b[0m__init__\u001b[0m\u001b[1;33m(\u001b[0m\u001b[0mself\u001b[0m\u001b[1;33m,\u001b[0m\u001b[0mcolour\u001b[0m\u001b[1;33m)\u001b[0m\u001b[1;33m\u001b[0m\u001b[1;33m\u001b[0m\u001b[0m\n\u001b[0m\u001b[0;32m     11\u001b[0m         \u001b[0mself\u001b[0m\u001b[1;33m.\u001b[0m\u001b[0msize\u001b[0m\u001b[1;33m=\u001b[0m\u001b[0msize\u001b[0m\u001b[1;33m\u001b[0m\u001b[1;33m\u001b[0m\u001b[0m\n\u001b[0;32m     12\u001b[0m     \u001b[1;32mdef\u001b[0m \u001b[0mdetails\u001b[0m\u001b[1;33m(\u001b[0m\u001b[0mself\u001b[0m\u001b[1;33m)\u001b[0m\u001b[1;33m:\u001b[0m\u001b[1;33m\u001b[0m\u001b[1;33m\u001b[0m\u001b[0m\n",
      "\u001b[1;31mTypeError\u001b[0m: object.__init__() takes exactly one argument (the instance to initialize)"
     ]
    }
   ],
   "source": [
    "#multilevel \n",
    "class car:\n",
    "    def __int__(self,colour):\n",
    "        self.colour=colour\n",
    "    def details(self):\n",
    "        print(\"colour=\",self.colour)\n",
    "\n",
    "class suv(car):\n",
    "    def __init__(self,colour,size):\n",
    "        car.__init__(self,colour)\n",
    "        self.size=size\n",
    "    def details(self):\n",
    "        car.details(self)\n",
    "        print(\"size=\",self.size)\n",
    "        \n",
    "class compact(suv):\n",
    "    def __init__(self,colour,size,legspace):\n",
    "        suv.__init__(self,colour,size)\n",
    "        self.legspace=legspace\n",
    "    def details(self):\n",
    "        suv.details(self)\n",
    "        print(\"legspace=\",self.legspace)\n",
    "\n",
    "c=compact(\"blue\",590,5)\n",
    "c.details()\n",
    "    "
   ]
  },
  {
   "cell_type": "code",
   "execution_count": 102,
   "id": "lesser-asian",
   "metadata": {},
   "outputs": [
    {
     "name": "stdout",
     "output_type": "stream",
     "text": [
      "dog barking\n",
      "Animal Speaking\n",
      "Eating bread...\n"
     ]
    }
   ],
   "source": [
    "class Animal:  \n",
    "    def speak(self):  \n",
    "        print(\"Animal Speaking\")  \n",
    "#The child class Dog inherits the base class Animal  \n",
    "class Dog(Animal):  \n",
    "    def bark(self):  \n",
    "        print(\"dog barking\")  \n",
    "#The child class Dogchild inherits another child class Dog  \n",
    "class DogChild(Dog):  \n",
    "    def eat(self):  \n",
    "        print(\"Eating bread...\")  \n",
    "d = DogChild()  \n",
    "d.bark()  \n",
    "d.speak()  \n",
    "d.eat() "
   ]
  },
  {
   "cell_type": "code",
   "execution_count": 108,
   "id": "regulation-madonna",
   "metadata": {},
   "outputs": [
    {
     "name": "stdout",
     "output_type": "stream",
     "text": [
      "[[0, 1, 2, 3, 4], [0, 1, 2, 3, 4], [], [], [], [], [], [], [], [], [], []]\n"
     ]
    }
   ],
   "source": [
    "lists = []\n",
    "# make list of lists\n",
    "for i in range(2):\n",
    "# append list\n",
    "    lists.append([])\n",
    "    for j in range(5):\n",
    "        lists[i].append(j)\n",
    "# Display result\n",
    "print(lists)\n"
   ]
  },
  {
   "cell_type": "code",
   "execution_count": 121,
   "id": "documented-limit",
   "metadata": {},
   "outputs": [
    {
     "name": "stdout",
     "output_type": "stream",
     "text": [
      "[[0, 1, 2, 3], [0, 1, 2, 3]]\n"
     ]
    }
   ],
   "source": [
    "l=[]\n",
    "for i in range(2):\n",
    "    l.append([])\n",
    "    for j in range(0,4):\n",
    "        l[i].append(j)\n",
    "print(l)"
   ]
  },
  {
   "cell_type": "code",
   "execution_count": 132,
   "id": "compound-dutch",
   "metadata": {},
   "outputs": [
    {
     "name": "stdout",
     "output_type": "stream",
     "text": [
      "{0: {0: 0, 1: 2}, 1: {0: 0, 1: 2}}\n"
     ]
    }
   ],
   "source": [
    "d={}\n",
    "for i in range(2):\n",
    "    d[i]={x:x*2 for x in range(0,2)}\n",
    "print(d)"
   ]
  },
  {
   "cell_type": "code",
   "execution_count": 4,
   "id": "sophisticated-pipeline",
   "metadata": {},
   "outputs": [
    {
     "name": "stdout",
     "output_type": "stream",
     "text": [
      "{1: {1: 'an'}, 2: {2: 'xy'}, 3: {3: 'wz'}}\n"
     ]
    }
   ],
   "source": [
    "l=[1,2,3]\n",
    "l1=[{1:'an'},{2:'xy'},{3:'wz'}]\n",
    "d=dict(zip(l,l1))\n",
    "print(d)"
   ]
  },
  {
   "cell_type": "code",
   "execution_count": 9,
   "id": "blind-honey",
   "metadata": {},
   "outputs": [
    {
     "name": "stdout",
     "output_type": "stream",
     "text": [
      "[4, 2, 3, 10]\n"
     ]
    }
   ],
   "source": [
    "l=[10,2,3,4]\n",
    "l[0],l[3]=l[3],l[0]\n",
    "print(l)"
   ]
  },
  {
   "cell_type": "code",
   "execution_count": 12,
   "id": "breathing-treasure",
   "metadata": {},
   "outputs": [
    {
     "name": "stdout",
     "output_type": "stream",
     "text": [
      "178\n"
     ]
    }
   ],
   "source": [
    "l=[10,5,90,88]\n",
    "l.sort()\n",
    "print(l[3]+l[2])"
   ]
  },
  {
   "cell_type": "code",
   "execution_count": 15,
   "id": "nasty-transparency",
   "metadata": {},
   "outputs": [
    {
     "name": "stdout",
     "output_type": "stream",
     "text": [
      "1\n",
      "10\n",
      "9\n"
     ]
    }
   ],
   "source": [
    "l=[1,9,10,90,9]\n",
    "for i in range(len(l)):\n",
    "    if(i%2==0):\n",
    "        print(l[i])"
   ]
  },
  {
   "cell_type": "code",
   "execution_count": 27,
   "id": "related-swing",
   "metadata": {},
   "outputs": [
    {
     "name": "stdout",
     "output_type": "stream",
     "text": [
      "2\n",
      "4\n",
      "5\n"
     ]
    }
   ],
   "source": [
    "l=[1,2,1,4,5]\n",
    "d={}\n",
    "for i in l:\n",
    "    if i in d:\n",
    "        d[i]=d[i]+1\n",
    "    else:\n",
    "        d[i]=1\n",
    "#print(d)\n",
    "d2={}\n",
    "for k,v in d.items():\n",
    "    if d[k] >1:\n",
    "        pass\n",
    "    else:\n",
    "        d2[k]=v\n",
    "for k,v in d2.items():\n",
    "    print(k)"
   ]
  },
  {
   "cell_type": "code",
   "execution_count": 35,
   "id": "otherwise-moses",
   "metadata": {},
   "outputs": [
    {
     "name": "stdout",
     "output_type": "stream",
     "text": [
      "89\n",
      "98\n",
      "1\n",
      "4\n"
     ]
    }
   ],
   "source": [
    "li1=[89,98,1,4,1]\n",
    "li2=[]\n",
    "for i in li1:\n",
    "    if i not in li2:\n",
    "        li2.append(i)\n",
    "for i in li2:\n",
    "    print(i)"
   ]
  },
  {
   "cell_type": "code",
   "execution_count": 103,
   "id": "surface-connectivity",
   "metadata": {},
   "outputs": [
    {
     "name": "stdout",
     "output_type": "stream",
     "text": [
      "{'abc': 'name', 8: 'id', 'mno': 'name', 10: 'id'}\n"
     ]
    },
    {
     "ename": "ValueError",
     "evalue": "list.remove(x): x not in list",
     "output_type": "error",
     "traceback": [
      "\u001b[1;31m---------------------------------------------------------------------------\u001b[0m",
      "\u001b[1;31mValueError\u001b[0m                                Traceback (most recent call last)",
      "\u001b[1;32m<ipython-input-103-61fa83802bf7>\u001b[0m in \u001b[0;36m<module>\u001b[1;34m\u001b[0m\n\u001b[0;32m      9\u001b[0m     \u001b[1;32mfor\u001b[0m \u001b[0mvalue\u001b[0m \u001b[1;32min\u001b[0m \u001b[0mk\u001b[0m\u001b[1;33m:\u001b[0m\u001b[1;33m\u001b[0m\u001b[1;33m\u001b[0m\u001b[0m\n\u001b[0;32m     10\u001b[0m         \u001b[0mmy_dict\u001b[0m\u001b[1;33m[\u001b[0m\u001b[0mkey\u001b[0m\u001b[1;33m]\u001b[0m \u001b[1;33m=\u001b[0m \u001b[0mvalue\u001b[0m\u001b[1;33m\u001b[0m\u001b[1;33m\u001b[0m\u001b[0m\n\u001b[1;32m---> 11\u001b[1;33m         \u001b[0ml\u001b[0m\u001b[1;33m.\u001b[0m\u001b[0mremove\u001b[0m\u001b[1;33m(\u001b[0m\u001b[0mvalue\u001b[0m\u001b[1;33m)\u001b[0m\u001b[1;33m\u001b[0m\u001b[1;33m\u001b[0m\u001b[0m\n\u001b[0m\u001b[0;32m     12\u001b[0m         \u001b[1;32mbreak\u001b[0m\u001b[1;33m\u001b[0m\u001b[1;33m\u001b[0m\u001b[0m\n\u001b[0;32m     13\u001b[0m \u001b[0mprint\u001b[0m\u001b[1;33m(\u001b[0m\u001b[0mmy_dict\u001b[0m\u001b[1;33m)\u001b[0m\u001b[1;33m\u001b[0m\u001b[1;33m\u001b[0m\u001b[0m\n",
      "\u001b[1;31mValueError\u001b[0m: list.remove(x): x not in list"
     ]
    }
   ],
   "source": [
    "from itertools import cycle\n",
    "l=[\"abc\",8,\"mno\",10]\n",
    "k=[\"name\",\"id\"]\n",
    "dic1=dict(zip(l,cycle(k)))\n",
    "print(dic1)\n",
    "\n",
    "my_dict = {} \n",
    "for key in l: \n",
    "    for value in k: \n",
    "        my_dict[key] = value \n",
    "        l.remove(value) \n",
    "        break  \n",
    "print(my_dict)\n",
    "my_dict1 = {} \n",
    "for key in l: \n",
    "    for value in k: \n",
    "        my_dict1[key] = value \n",
    "        #l.remove(value) \n",
    "        #break  \n",
    "print(my_dict1)\n",
    "my_dict3={}\n",
    "for i,v in my_dict.items():\n",
    "    my_dict3[i]=v\n",
    "for i,v in my_dict1.items():\n",
    "    my_dict3[i]=v\n",
    "print(my_dict3)   "
   ]
  },
  {
   "cell_type": "code",
   "execution_count": 90,
   "id": "coral-franchise",
   "metadata": {},
   "outputs": [
    {
     "name": "stdout",
     "output_type": "stream",
     "text": [
      "{'red': 1, 'green': 2, 'blue': 3}\n"
     ]
    }
   ],
   "source": [
    "key_list = ['red', 'green', 'blue']\n",
    "value_list = [1, 2, 3]\n",
    "\n",
    "#convert lists\n",
    "\n",
    "my_dict = {} \n",
    "for key in key_list: \n",
    "    for value in value_list: \n",
    "        my_dict[key] = value \n",
    "        value_list.remove(value) \n",
    "        break  \n",
    "print(my_dict)\n"
   ]
  },
  {
   "cell_type": "code",
   "execution_count": 104,
   "id": "senior-airfare",
   "metadata": {},
   "outputs": [
    {
     "name": "stdout",
     "output_type": "stream",
     "text": [
      "{'name': 'mno', 'id': 10}\n"
     ]
    }
   ],
   "source": [
    "dict1 = {'name': 'abc', 'id': 8}\n",
    "dict2 = {'name': 'mno', 'id': 10}\n",
    "dict1.update(dict2)\n",
    "print(dict1)"
   ]
  },
  {
   "cell_type": "code",
   "execution_count": 107,
   "id": "suburban-manhattan",
   "metadata": {},
   "outputs": [
    {
     "name": "stdout",
     "output_type": "stream",
     "text": [
      "smtha n\n"
     ]
    }
   ],
   "source": [
    "st=\"smitha n\"\n",
    "po=2\n",
    "st1=\"\"\n",
    "for i in range(0,len(st)):\n",
    "    if(i!=po):\n",
    "        st1=st1+st[i]\n",
    "print(st1)\n"
   ]
  },
  {
   "cell_type": "code",
   "execution_count": 113,
   "id": "healthy-content",
   "metadata": {},
   "outputs": [
    {
     "name": "stdout",
     "output_type": "stream",
     "text": [
      "['haii', 'smitha', 'good', 'morning', 'smie']\n",
      "haii\n",
      "smitha\n",
      "good\n",
      "smie\n"
     ]
    }
   ],
   "source": [
    "st2=\"haii smitha good morning smie\"\n",
    "l=st2.split(\" \")\n",
    "print(l)\n",
    "for i in l:\n",
    "    count=0\n",
    "    for j in i:\n",
    "        count=count+1\n",
    "    if(count%2==0):\n",
    "        print(i)"
   ]
  },
  {
   "cell_type": "code",
   "execution_count": 120,
   "id": "precious-summary",
   "metadata": {},
   "outputs": [
    {
     "name": "stdout",
     "output_type": "stream",
     "text": [
      "['a', 'b', 'c', 'd']\n",
      "['d', 'e', 'f', 'a', 'b']\n",
      "{'b', 'a', 'd'}\n"
     ]
    }
   ],
   "source": [
    "st1=\"abcd\"\n",
    "l=[]\n",
    "l2=[]\n",
    "for i in st1:\n",
    "    l.append(i)\n",
    "print(l)\n",
    "st2=\"defab\"\n",
    "for i in st2:\n",
    "    l2.append(i)\n",
    "print(l2)\n",
    "print(set(l2)&set(l))"
   ]
  },
  {
   "cell_type": "code",
   "execution_count": 2,
   "id": "fifth-airfare",
   "metadata": {},
   "outputs": [
    {
     "name": "stdout",
     "output_type": "stream",
     "text": [
      "hai . good morning,\n"
     ]
    }
   ],
   "source": [
    "st1=\"hai , good morning.\"\n",
    "st1=st1.replace(\",\",\"temp\")\n",
    "st1=st1.replace(\".\",\",\")\n",
    "st1=st1.replace(\"temp\",\".\")\n",
    "print(st1)"
   ]
  },
  {
   "cell_type": "code",
   "execution_count": 19,
   "id": "knowing-arnold",
   "metadata": {},
   "outputs": [
    {
     "name": "stdout",
     "output_type": "stream",
     "text": [
      "[4, 2, 3]\n"
     ]
    }
   ],
   "source": [
    "import random \n",
    "\n",
    "mylist = [2,3,4]\n",
    "random.shuffle(mylist)\n",
    "\n",
    "print(mylist)"
   ]
  },
  {
   "cell_type": "code",
   "execution_count": 21,
   "id": "excess-convergence",
   "metadata": {},
   "outputs": [
    {
     "ename": "SyntaxError",
     "evalue": "can't assign to function call (<ipython-input-21-75813cb3f893>, line 4)",
     "output_type": "error",
     "traceback": [
      "\u001b[1;36m  File \u001b[1;32m\"<ipython-input-21-75813cb3f893>\"\u001b[1;36m, line \u001b[1;32m4\u001b[0m\n\u001b[1;33m    myl[i],random.ranint(1,10)=random.ranint(1,10),myl[i]\u001b[0m\n\u001b[1;37m    ^\u001b[0m\n\u001b[1;31mSyntaxError\u001b[0m\u001b[1;31m:\u001b[0m can't assign to function call\n"
     ]
    }
   ],
   "source": [
    "myl=[2,3,4]\n",
    "import random\n",
    "for i in myl:\n",
    "    myl[i],random.ranint(1,10)=random.ranint(1,10),myl[i]\n",
    "print(myl[i])"
   ]
  },
  {
   "cell_type": "code",
   "execution_count": 32,
   "id": "cordless-technician",
   "metadata": {},
   "outputs": [
    {
     "name": "stdout",
     "output_type": "stream",
     "text": [
      "enter choice+\n",
      "10 + 12=22.00 \n"
     ]
    }
   ],
   "source": [
    "'''st=\"smitha\"\n",
    "print(st[::-1])\n",
    "l=[1221,1234,1111]\n",
    "count=0\n",
    "for i in l:\n",
    "    \n",
    "    el=str(i)\n",
    "    rev=el[::-1]\n",
    "    if(el==rev):\n",
    "        print(i)\n",
    "        count=count+1\n",
    "        \n",
    "print(\"total palindrome={}\".format(count))\n",
    "\n",
    "\n",
    "st1=\"smitha\"\n",
    "#print(len(st1))\n",
    "coun=0\n",
    "for i in st1:\n",
    "    coun=coun+1\n",
    "print(coun)\n",
    "'''\n",
    "n=10\n",
    "n1=12\n",
    "ch=input(\"enter choice\")\n",
    "if ch==\"+\":\n",
    "    result=n+n1\n",
    "elif ch==\"-\":\n",
    "    result=n-n1\n",
    "elif ch==\"*\":\n",
    "    result=n*n1\n",
    "elif ch==\"/\":\n",
    "    if(n1==0):\n",
    "        print(\"division not possible\")\n",
    "        sys.exit()\n",
    "    else:\n",
    "        result=n/n1\n",
    "print(\"{} {} {}={:.2f} \".format(n,ch,n1,result))"
   ]
  },
  {
   "cell_type": "code",
   "execution_count": 35,
   "id": "suspected-tractor",
   "metadata": {},
   "outputs": [
    {
     "name": "stdout",
     "output_type": "stream",
     "text": [
      "[2, 3, 4, 10]\n"
     ]
    }
   ],
   "source": [
    "l=[2,3,4,10]\n",
    "n=len(l)\n",
    "for i in range(0,n-1):\n",
    "    for j in range(0,n-1-i):\n",
    "        if l[j]>l[j+1]:\n",
    "            l[j],l[j+1]=l[j+1],l[j]\n",
    "print(l)"
   ]
  },
  {
   "cell_type": "code",
   "execution_count": 41,
   "id": "horizontal-fifth",
   "metadata": {},
   "outputs": [
    {
     "name": "stdout",
     "output_type": "stream",
     "text": [
      "3\n",
      "14\n",
      "21\n",
      "50\n"
     ]
    }
   ],
   "source": [
    "#method overloading\n",
    "class parent:\n",
    "    def add(self,a,b,*args):\n",
    "        result=a+b\n",
    "        for i in args:\n",
    "            result=result+i\n",
    "        print(result)\n",
    "c=parent()\n",
    "c.add(1,2)\n",
    "c.add(1,6,7)\n",
    "c.add(1,5,7,8)\n",
    "c.add(10,10,10,10,10)"
   ]
  },
  {
   "cell_type": "code",
   "execution_count": 43,
   "id": "underlying-memorial",
   "metadata": {},
   "outputs": [
    {
     "name": "stdout",
     "output_type": "stream",
     "text": [
      "I eat both veg and non veg\n",
      "I eat only veg\n"
     ]
    }
   ],
   "source": [
    "#menthod overriding\n",
    "class Animal:\n",
    "    def eat(self):\n",
    "        print(\"I eat both veg and non veg\")\n",
    "class cow(Animal):\n",
    "    def eat(self):\n",
    "        print(\"I eat only veg\")\n",
    "C1=Animal()\n",
    "C1.eat()\n",
    "C2=cow()\n",
    "C2.eat()"
   ]
  },
  {
   "cell_type": "code",
   "execution_count": 53,
   "id": "centered-scotland",
   "metadata": {},
   "outputs": [
    {
     "name": "stdout",
     "output_type": "stream",
     "text": [
      "3\n",
      "31\n",
      "i am from child process\n"
     ]
    }
   ],
   "source": [
    "class parent:\n",
    "    def __init__(self,a,b):\n",
    "        self.a=a\n",
    "        self.b=b\n",
    "    def add(self):\n",
    "        result=self.a+self.b\n",
    "        print(result)\n",
    "class child(parent):\n",
    "    def __init__(self,a,b):\n",
    "        super().__init__(a,b)\n",
    "    def add(self):\n",
    "        super().add()\n",
    "        print(\"i am from child process\")\n",
    "c2=parent(1,2)\n",
    "c2.add()\n",
    "c3=child(11,20)\n",
    "c3.add()"
   ]
  },
  {
   "cell_type": "code",
   "execution_count": 68,
   "id": "athletic-tackle",
   "metadata": {},
   "outputs": [
    {
     "name": "stdout",
     "output_type": "stream",
     "text": [
      "[4, 2, 3, 1]\n",
      "after shuffling is [4, 3, 2, 1] \n"
     ]
    }
   ],
   "source": [
    "\n",
    "import random\n",
    "l=[1,2,3,4]\n",
    "random.shuffle(l)\n",
    "print(l)\n",
    "n=len(l)\n",
    "for i in l:\n",
    "    j=random.randint(0,n-1)\n",
    "    el=l.pop(j)\n",
    "    l.append(el)\n",
    "print(\"after shuffling is {} \".format(l))"
   ]
  },
  {
   "cell_type": "code",
   "execution_count": 90,
   "id": "worse-classics",
   "metadata": {},
   "outputs": [
    {
     "name": "stdout",
     "output_type": "stream",
     "text": [
      "staring function welcome to  add function\n",
      "***********************\n",
      "3\n",
      "staring function welcome to  cube function\n",
      "***********************\n",
      "6\n"
     ]
    }
   ],
   "source": [
    "def fun1(fun):\n",
    "    def wrapper(*args,**kwargs):\n",
    "        print(\"staring function welcome to \",fun.__name__,\"function\")\n",
    "        print(\"***********************\")\n",
    "        result=fun(*args,**kwargs)\n",
    "        return result\n",
    "        \n",
    "    return wrapper\n",
    "@fun1\n",
    "def add(a,b):\n",
    "    result=a+b\n",
    "    return result\n",
    "@fun1\n",
    "def cube(a,b,c):\n",
    "    result=a+b+c\n",
    "    return result\n",
    "re=add(1,2)\n",
    "print(re)\n",
    "re1=cube(1,2,3)\n",
    "print(re1)\n"
   ]
  },
  {
   "cell_type": "code",
   "execution_count": 93,
   "id": "everyday-recall",
   "metadata": {},
   "outputs": [
    {
     "name": "stdout",
     "output_type": "stream",
     "text": [
      "0\n",
      "1\n",
      "1\n",
      "2\n",
      "3\n"
     ]
    }
   ],
   "source": [
    "def fib():\n",
    "    a,b=0,1\n",
    "    while True:\n",
    "        yield a\n",
    "        a,b=b,a+b\n",
    "for i in fib():\n",
    "    if i>=5:\n",
    "        break\n",
    "    else:\n",
    "        print(i)"
   ]
  },
  {
   "cell_type": "code",
   "execution_count": 97,
   "id": "urban-locking",
   "metadata": {},
   "outputs": [
    {
     "name": "stdout",
     "output_type": "stream",
     "text": [
      "1\n",
      "2\n",
      "3\n"
     ]
    }
   ],
   "source": [
    "l=[1,2,3]\n",
    "i=iter(l)\n",
    "while True:\n",
    "    try:\n",
    "        el=next(i)\n",
    "        print(el)\n",
    "    except StopIteration:\n",
    "        break\n"
   ]
  },
  {
   "cell_type": "code",
   "execution_count": 100,
   "id": "threatened-tuner",
   "metadata": {},
   "outputs": [
    {
     "name": "stdout",
     "output_type": "stream",
     "text": [
      "1.0\n",
      "bye\n"
     ]
    }
   ],
   "source": [
    "a=10\n",
    "b=10\n",
    "try:\n",
    "    re=a/b\n",
    "    print(re)\n",
    "except ZeroDivisionError:\n",
    "    print(\"division not possible\")\n",
    "finally:\n",
    "    print(\"bye\")"
   ]
  },
  {
   "cell_type": "code",
   "execution_count": 108,
   "id": "introductory-basin",
   "metadata": {},
   "outputs": [
    {
     "name": "stdout",
     "output_type": "stream",
     "text": [
      "[[[1, 3], [2, 3]], [[4, 6], [5, 6]]]\n"
     ]
    }
   ],
   "source": [
    "li=[[1,2,3],[4,5,6]]\n",
    "el=[]\n",
    "for i in li:\n",
    "    el.append([[e,i[-1]] for e in i[:-1]])\n",
    "print(el)"
   ]
  },
  {
   "cell_type": "code",
   "execution_count": 113,
   "id": "extended-tobacco",
   "metadata": {},
   "outputs": [
    {
     "name": "stdout",
     "output_type": "stream",
     "text": [
      "[1, 2, 3, 4] 4\n",
      "[1, 2, 3, 4] 4\n"
     ]
    }
   ],
   "source": [
    "l=[1,2,3,4,1]\n",
    "l1=[] \n",
    "count=0\n",
    "for i in l:\n",
    "    if i not in l1:\n",
    "        count+=1\n",
    "        l1.append(i)\n",
    "print(l1,count)\n",
    "s=set(l)\n",
    "s=list(s)\n",
    "print(s,len(s))"
   ]
  },
  {
   "cell_type": "code",
   "execution_count": 126,
   "id": "atmospheric-prototype",
   "metadata": {},
   "outputs": [
    {
     "name": "stdout",
     "output_type": "stream",
     "text": [
      "False\n"
     ]
    }
   ],
   "source": [
    "l=[1,2,3,4,5,66]\n",
    "i=0\n",
    "j=10\n",
    "re=all(el>=i and el<=j for el in l)\n",
    "print(re)\n"
   ]
  },
  {
   "cell_type": "code",
   "execution_count": 130,
   "id": "animal-local",
   "metadata": {},
   "outputs": [
    {
     "name": "stdout",
     "output_type": "stream",
     "text": [
      "1 2 3\n",
      "1 3 2\n",
      "2 1 3\n",
      "2 3 1\n",
      "3 1 2\n",
      "3 2 1\n"
     ]
    }
   ],
   "source": [
    "l=[1,2,3]\n",
    "for i in range(3):\n",
    "    for j in range(3):\n",
    "        for k in range(3):\n",
    "            if(i!=j and j!=k and k!=i):\n",
    "                print(l[i],l[j],l[k])"
   ]
  },
  {
   "cell_type": "code",
   "execution_count": 141,
   "id": "suffering-equation",
   "metadata": {},
   "outputs": [
    {
     "name": "stdout",
     "output_type": "stream",
     "text": [
      "['smi', 'n']\n"
     ]
    }
   ],
   "source": [
    "l=[\"smi\",\" \",\"n\"]\n",
    "l=[le for le in l if le.strip()]\n",
    "print(l)\n",
    " \n",
    "\n",
    "        "
   ]
  },
  {
   "cell_type": "code",
   "execution_count": 148,
   "id": "theoretical-fitness",
   "metadata": {},
   "outputs": [
    {
     "name": "stdout",
     "output_type": "stream",
     "text": [
      "[True, False, True]\n",
      "['Apple', 'Apricot']\n",
      "16\n"
     ]
    }
   ],
   "source": [
    "def starts_with(a):\n",
    "    return (a[0]==\"A\")\n",
    "l=[\"Apple\",\"banana\",\"Apricot\"]\n",
    "map_ob=map(starts_with,l)\n",
    "print(list(map_ob))\n",
    "fil_ob=filter(starts_with,l)\n",
    "print(list(fil_ob))\n",
    "from functools import reduce\n",
    "l=[1,2,3]\n",
    "def add(a,b):\n",
    "    return a+b\n",
    "print(reduce(add,l,10))"
   ]
  },
  {
   "cell_type": "code",
   "execution_count": 152,
   "id": "contained-privilege",
   "metadata": {},
   "outputs": [
    {
     "name": "stdout",
     "output_type": "stream",
     "text": [
      "{1: {2: 4, 3: 9, 4: 16, 5: 25, 6: 36, 7: 49, 8: 64, 9: 81}, 2: {2: 4, 3: 9, 4: 16, 5: 25, 6: 36, 7: 49, 8: 64, 9: 81}, 3: {2: 4, 3: 9, 4: 16, 5: 25, 6: 36, 7: 49, 8: 64, 9: 81}}\n",
      "{1: {2: 4, 3: 9, 4: 16, 5: 25, 6: 36, 7: 49, 8: 64, 9: 81}, 2: {2: 4, 3: 9, 4: 16, 5: 25, 6: 36, 7: 49, 8: 64, 9: 81}, 3: {2: 4, 3: 9, 4: 16, 5: 25, 6: 36, 7: 49, 8: 64, 9: 81}}\n"
     ]
    }
   ],
   "source": [
    "\n",
    "d1={i:{k:k*k for k in range(2,10)}for i in range(1,4)}\n",
    "print(d1)\n",
    "d1=dict()\n",
    "for i in range(1,4):\n",
    "    d1[i]=dict()\n",
    "    for k in range(2,10):\n",
    "        d1[i][k]=k*k\n",
    "print(d1)"
   ]
  },
  {
   "cell_type": "code",
   "execution_count": 2,
   "id": "latest-compensation",
   "metadata": {},
   "outputs": [
    {
     "name": "stdout",
     "output_type": "stream",
     "text": [
      "1,000,000,000,000\n",
      "['How', 'is', 'Multithreading', 'achieved', 'in', 'Python?', 'How', 'can', 'you', 'build', 'a', 'simple', 'logistic', 'regression', 'model', 'in', 'Python?', 'Which', 'library', 'would', 'you', 'prefer', 'for', 'plotting', 'in', 'Python', 'language:', 'Seaborn', 'or', 'Matplotlib?', 'What', 'is', 'the', 'main', 'difference', 'between', 'a', 'Pandas', 'series', 'and', 'a', 'single-column', 'DataFrame', 'in', 'Python?']\n",
      "{'is': 2, 'Multithreading': 14, 'achieved': 8, 'in': 2, 'simple': 6, 'logistic': 8, 'regression': 10, 'prefer': 6, 'plotting': 8, 'Python': 6, 'or': 2, 'What': 4, 'main': 4, 'difference': 10, 'Pandas': 6, 'series': 6}\n",
      "16\n"
     ]
    }
   ],
   "source": [
    "l=1000000000000\n",
    "print(\"{:,}\".format(l))\n",
    "st=\"How is Multithreading achieved in Python? How can you build a simple logistic regression model in Python? Which library would you prefer for plotting in Python language: Seaborn or Matplotlib? What is the main difference between a Pandas series and a single-column DataFrame in Python?\"\n",
    "l=st.split(\" \")\n",
    "print(l)\n",
    "d={}\n",
    "for i in l:\n",
    "    count=0\n",
    "    for j in i:\n",
    "        count+=1\n",
    "    d[i]=count\n",
    "#print(d)\n",
    "d={k:v for k,v in d.items() if v%2==0}\n",
    "print(d)\n",
    "c=0\n",
    "for i in d:\n",
    "    c+=1\n",
    "print(c)\n",
    "#for i in l:\n",
    " #   if i in d:\n",
    "  #      d[i]=d[i]+1\n",
    "   # else:\n",
    "    #    d[i]=1\n",
    "#print(d)\n",
    "#d={k:v for k,v in d.items() if v%2==0}\n",
    "#print(d)"
   ]
  },
  {
   "cell_type": "code",
   "execution_count": 8,
   "id": "associate-humanity",
   "metadata": {},
   "outputs": [
    {
     "name": "stdout",
     "output_type": "stream",
     "text": [
      "[0, 2, 3, 10, 40]\n"
     ]
    }
   ],
   "source": [
    "\n",
    "def merge_sort(a):\n",
    "    if(len(a)<=1):\n",
    "        return a\n",
    "    mid=len(a)//2\n",
    "    left=a[:mid]\n",
    "    right=a[mid:]\n",
    "    left=merge_sort(left)\n",
    "    right=merge_sort(right)\n",
    "    return merge(left,right)\n",
    "\n",
    "\n",
    "def merge(a,b):\n",
    "    sort_list=[]\n",
    "    len_a=len(a)\n",
    "    len_b=len(b)\n",
    "    i=j=0\n",
    "    while i<len_a and j<len_b:\n",
    "        if(a[i]<=b[j]):\n",
    "            sort_list.append(a[i])\n",
    "            i+=1\n",
    "        else:\n",
    "            sort_list.append(b[j])\n",
    "            j=j+1\n",
    "    while i<len_a:\n",
    "        sort_list.append(a[i])\n",
    "        i+=1\n",
    "    while j<len_b:\n",
    "        sort_list.append(b[j])\n",
    "        j+=1\n",
    "    return sort_list\n",
    "\n",
    "\n",
    "\n",
    "a=[10,2,3,0,40]\n",
    "a=merge_sort(a)\n",
    "print(a)"
   ]
  },
  {
   "cell_type": "code",
   "execution_count": 9,
   "id": "executed-solomon",
   "metadata": {},
   "outputs": [
    {
     "name": "stdout",
     "output_type": "stream",
     "text": [
      "[0, 2, 3, 10, 40]\n"
     ]
    }
   ],
   "source": [
    "a=[10,2,3,0,40]\n",
    "for i in range(0,len(a)):\n",
    "    min=i\n",
    "    for j in range(i+1,len(a)):\n",
    "        if(a[min]>a[j]):\n",
    "            min=j\n",
    "    a[i],a[min]=a[min],a[i]\n",
    "print(a)"
   ]
  }
 ],
 "metadata": {
  "kernelspec": {
   "display_name": "Python 3",
   "language": "python",
   "name": "python3"
  },
  "language_info": {
   "codemirror_mode": {
    "name": "ipython",
    "version": 3
   },
   "file_extension": ".py",
   "mimetype": "text/x-python",
   "name": "python",
   "nbconvert_exporter": "python",
   "pygments_lexer": "ipython3",
   "version": "3.7.4"
  }
 },
 "nbformat": 4,
 "nbformat_minor": 5
}
